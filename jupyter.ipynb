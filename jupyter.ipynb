{
 "cells": [
  {
   "cell_type": "code",
   "execution_count": 1,
   "id": "c9b6c0ed",
   "metadata": {},
   "outputs": [],
   "source": [
    "import pandas as pd\n",
    "import pyreadstat as pyreadstat\n",
    "\n",
    "#dataframe, meta = pyreadstat.read_sav(r\"C:\\Users\\Alexkeks\\Downloads\\RLMS_HH_1994_2022_v4\\RLMS_HH_1994_2022_v4.sav\")\n",
    "dataframe, meta = pyreadstat.read_sav(r\"C:\\Users\\Alexkeks\\Downloads\\RLMS_IND_1994_2022_2023_09_01_1_v3_rus\\RLMS_IND_1994_2022_2023_09_01_1_v3_rus.sav\")"
   ]
  },
  {
   "cell_type": "code",
   "execution_count": 2,
   "id": "98fb0495",
   "metadata": {},
   "outputs": [
    {
     "name": "stdout",
     "output_type": "stream",
     "text": [
      "Collecting pyreadstat\n",
      "  Downloading pyreadstat-1.2.3-cp310-cp310-win_amd64.whl (2.4 MB)\n",
      "     ---------------------------------------- 2.4/2.4 MB 8.1 MB/s eta 0:00:00\n",
      "Requirement already satisfied: pandas>=1.2.0 in c:\\users\\alexkeks\\anaconda3\\lib\\site-packages (from pyreadstat) (1.5.3)\n",
      "Requirement already satisfied: pytz>=2020.1 in c:\\users\\alexkeks\\anaconda3\\lib\\site-packages (from pandas>=1.2.0->pyreadstat) (2022.7)\n",
      "Requirement already satisfied: numpy>=1.21.0 in c:\\users\\alexkeks\\anaconda3\\lib\\site-packages (from pandas>=1.2.0->pyreadstat) (1.23.5)\n",
      "Requirement already satisfied: python-dateutil>=2.8.1 in c:\\users\\alexkeks\\anaconda3\\lib\\site-packages (from pandas>=1.2.0->pyreadstat) (2.8.2)\n",
      "Requirement already satisfied: six>=1.5 in c:\\users\\alexkeks\\anaconda3\\lib\\site-packages (from python-dateutil>=2.8.1->pandas>=1.2.0->pyreadstat) (1.16.0)\n",
      "Installing collected packages: pyreadstat\n",
      "Successfully installed pyreadstat-1.2.3\n"
     ]
    }
   ],
   "source": [
    "!pip install pyreadstat"
   ]
  },
  {
   "cell_type": "code",
   "execution_count": 47,
   "id": "f2626bec",
   "metadata": {},
   "outputs": [
    {
     "data": {
      "text/plain": [
       "175277"
      ]
     },
     "execution_count": 47,
     "metadata": {},
     "output_type": "execute_result"
    }
   ],
   "source": [
    "open(r\"C:\\Users\\Alexkeks\\Downloads\\RLMS_HH_1994_2022_v4\\questions\", \"w\").write('\\n'.join(meta.column_labels))\n",
    "\n"
   ]
  },
  {
   "cell_type": "code",
   "execution_count": 21,
   "id": "4f2eb2be",
   "metadata": {},
   "outputs": [
    {
     "data": {
      "text/plain": [
       "{1.0: 'ВСЕ ВРЕМЯ', 2.0: 'НЕ ВСЕ ВРЕМЯ'}"
      ]
     },
     "execution_count": 21,
     "metadata": {},
     "output_type": "execute_result"
    }
   ],
   "source": [
    "meta.variable_value_labels['J72.21']"
   ]
  },
  {
   "cell_type": "code",
   "execution_count": 34,
   "id": "383e661f",
   "metadata": {},
   "outputs": [
    {
     "name": "stdout",
     "output_type": "stream",
     "text": [
      "Вы работали по полученной или близкой к ней специальности все время или не все время?\n"
     ]
    },
    {
     "data": {
      "text/plain": [
       "[('ВСЕ ВРЕМЯ', 3310), ('НЕ ВСЕ ВРЕМЯ', 2774)]"
      ]
     },
     "execution_count": 34,
     "metadata": {},
     "output_type": "execute_result"
    }
   ],
   "source": [
    "col = 'J72.21'\n",
    "print(meta.column_names_to_labels[col])\n",
    "d=dataframe[dataframe[col].notnull()][col].value_counts()\n",
    "\n",
    "[(meta.variable_value_labels['J72.21'].get(k),v) for k,v in d.items()]"
   ]
  },
  {
   "cell_type": "code",
   "execution_count": 14,
   "id": "45008604",
   "metadata": {},
   "outputs": [
    {
     "data": {
      "text/plain": [
       "[('J21.4',\n",
       "  'Собираетесь ли Вы работать на вредном производстве после того, как выработаете специальный стаж, дающий Вам право на досрочное назначение трудовой пенсии?'),\n",
       " ('J721DAC08',\n",
       "  'Код профессии по ISCO2008 первой специальности профессиональных курсов'),\n",
       " ('J721DBC08',\n",
       "  'Код профессии по ISCO2008 второй специальности профессиональных курсов'),\n",
       " ('J721DCC08',\n",
       "  'Код профессии по ISCO2008 третьей специальности профессиональных курсов'),\n",
       " ('J721DDC08',\n",
       "  'Код профессии по ISCO2008 четвертой специальности профессиональных курсов'),\n",
       " ('J721DEC08',\n",
       "  'Код профессии по ISCO2008 пятой специальности профессиональных курсов'),\n",
       " ('J722DAC08',\n",
       "  'Код профессии по ISCO2008 первой специальности ПТУ, ФЗУ, ФЗО без среднего образования'),\n",
       " ('J722DBC08',\n",
       "  'Код профессии по ISCO2008 второй специальности ПТУ, ФЗУ, ФЗО без среднего образования'),\n",
       " ('J723DAC08',\n",
       "  'Код профессии по ISCO2008 первой специальности ПТУ со средним образованием, технического училища'),\n",
       " ('J723DBC08',\n",
       "  'Код профессии по ISCO2008 второй специальности ПТУ со средним образованием, технического училища'),\n",
       " ('J724DAC08',\n",
       "  'Код профессии по ISCO2008 первой специальности техникума, училища'),\n",
       " ('J724DBC08',\n",
       "  'Код профессии по ISCO2008 второй специальности техникума, училища'),\n",
       " ('J725DAC08',\n",
       "  'Код профессии по ISCO2008 первой специальности института, университета, академии, включая магистратуру'),\n",
       " ('J725DBC08',\n",
       "  'Код профессии по ISCO2008 второй специальности института, университета, академии, включая магистратуру'),\n",
       " ('J725DCC08',\n",
       "  'Код профессии по ISCO2008 третьей специальности института, университета, академии, включая магистратуру'),\n",
       " ('J725DDC08',\n",
       "  'Код профессии по ISCO2008 четвертой специальности института, университета, академии, включая магистратуру'),\n",
       " ('J726DAC08',\n",
       "  'Код профессии по ISCO2008 первой специальности аспирантуры, ординатуры'),\n",
       " ('J726DBC08',\n",
       "  'Код профессии по ISCO2008 второй специальности аспирантуры, ординатуры'),\n",
       " ('J72.19A',\n",
       "  'Какая часть людей из учившихся вместе с Вами в одной группе в учебном учреждении работает сейчас по полученной или близкой к ней специальности?'),\n",
       " ('J72.20',\n",
       "  'Вы сами работали по полученной или близкой к ней специальности после получения образования в учебном учреждении?'),\n",
       " ('J72.21',\n",
       "  'Вы работали по полученной или близкой к ней специальности все время или не все время?'),\n",
       " ('J72.21Y',\n",
       "  'Сколько лет Вы работали по полученной или близкой к ней специальности?'),\n",
       " ('J72.26',\n",
       "  'На своей основной работе Вы сейчас заняты по той специальности, которую получили в учебном учреждении?'),\n",
       " ('J72.110',\n",
       "  'В течение последних 3-х лет Вы учились или учитесь на курсах повышения квалификации по своей теперешней профессии, специальности?'),\n",
       " ('J72121AC08',\n",
       "  'Код профессии по ISCO2008 специальности профессиональных курсов'),\n",
       " ('J72121B',\n",
       "  'Эта специальность совпадает с той, которая была у Вас к моменту поступления на курсы?'),\n",
       " ('J72122AC08',\n",
       "  'Код профессии по ISCO2008 второй специальности профессиональных курсов'),\n",
       " ('J72122B',\n",
       "  'Эта специальность совпадает с той, которая была у Вас к моменту поступления на курсы? (вторые)'),\n",
       " ('J72.13',\n",
       "  'В течение последних 3-х лет Вы учились или учитесь на каких-либо курсах, где Вас учили какой-нибудь другой профессии, специальности, иностранным языкам?'),\n",
       " ('J72.13A',\n",
       "  'В течение последних 2-х лет Вы учились или учитесь на каких-либо курсах, где Вас учили какой-нибудь другой профессии, специальности, иностранным языкам?'),\n",
       " ('J7214AC08', 'Код профессии по ISCO2008 первой специальности курсов'),\n",
       " ('J7214BC08', 'Код профессии по ISCO2008 второй специальности курсов'),\n",
       " ('J7214CO08', 'Код профессии по ISCO2008 специальности курсов'),\n",
       " ('L33',\n",
       "  'Скажите, пожалуйста, в течение последних 30 дней врач или другой специалист медицинского учреждения - больницы, поликлиники - выписывал или советовал Вам принимать какие-нибудь лекарства?'),\n",
       " ('L103.1A',\n",
       "  'За последние 2 года среди учтенных Вами случаев обращения к врачам были ли такие, когда у Вас была возможность выбора, куда и к кому обратиться, и Вы выбирали между двумя или более врачами одной специальности?'),\n",
       " ('L105',\n",
       "  'Расскажите о последнем случае в течение последних двух лет, когда Вам приходилось для себя выбирать врача или поликлинику. Вы обращались за помощью терапевта или врача-узкого специалиста?'),\n",
       " ('L107',\n",
       "  'Почему Вам пришлось выбирать врача-узкого специалиста? Основная причина'),\n",
       " ('O28',\n",
       "  'В течение последних 7 дней Вы ухаживали за Вашим отцом? Делали то, что он не может делать самостоятельно, или ходили специально для него в магазин, помогали в уборке, стирке?'),\n",
       " ('O32',\n",
       "  'В последние 7 дней Вы ухаживали за Вашей матерью? Делали то, что она не может делать самостоятельно, или ходили специально для неё в магазин, помогали в уборке, стирке?'),\n",
       " ('O36',\n",
       "  'Скажите, пожалуйста, в последние 7 дней Вы ухаживали за кем-нибудь из них, делали то, что они не могут делать самостоятельно, или ходили специально для них в магазин, помогали в уборке, стирке?')]"
      ]
     },
     "execution_count": 14,
     "metadata": {},
     "output_type": "execute_result"
    }
   ],
   "source": [
    "[(col, labels) for col, labels in meta.column_names_to_labels.items() if 'спец' in labels]"
   ]
  },
  {
   "cell_type": "code",
   "execution_count": 70,
   "id": "ef601aca",
   "metadata": {},
   "outputs": [],
   "source": [
    "dataframe=dataframe[dataframe['YEAR']==2008]\n",
    "\n",
    "df=dataframe\n",
    "\n",
    "df['J72.21']=df['J72.21'].map(meta.variable_value_labels['J72.21'])\n",
    "\n",
    "df['H5']=df['H5'].map(meta.variable_value_labels['H5'])\n",
    "\n",
    "df['J72.19A']=df['J72.19A'].map(meta.variable_value_labels['J72.19A'])\n",
    "\n",
    "df['J72.20']=df['J72.20'].map(meta.variable_value_labels['J72.20'])"
   ]
  },
  {
   "cell_type": "code",
   "execution_count": 15,
   "id": "d67ad145",
   "metadata": {},
   "outputs": [
    {
     "ename": "NameError",
     "evalue": "name 'df' is not defined",
     "output_type": "error",
     "traceback": [
      "\u001b[1;31m---------------------------------------------------------------------------\u001b[0m",
      "\u001b[1;31mNameError\u001b[0m                                 Traceback (most recent call last)",
      "Cell \u001b[1;32mIn[15], line 11\u001b[0m\n\u001b[0;32m      4\u001b[0m col \u001b[38;5;241m=\u001b[39m \u001b[38;5;124m'\u001b[39m\u001b[38;5;124mJ72.19A\u001b[39m\u001b[38;5;124m'\u001b[39m\n\u001b[0;32m      7\u001b[0m \u001b[38;5;66;03m#print(df[df['H5']<100].groupby(['H5', col]).size().unstack().reset_index().plot.bar())\u001b[39;00m\n\u001b[1;32m---> 11\u001b[0m sns\u001b[38;5;241m.\u001b[39mcountplot(data\u001b[38;5;241m=\u001b[39m\u001b[43mdf\u001b[49m[df[\u001b[38;5;124m'\u001b[39m\u001b[38;5;124mAGE\u001b[39m\u001b[38;5;124m'\u001b[39m]\u001b[38;5;241m<\u001b[39m\u001b[38;5;241m100\u001b[39m], y\u001b[38;5;241m=\u001b[39mcol, hue\u001b[38;5;241m=\u001b[39m\u001b[38;5;124m'\u001b[39m\u001b[38;5;124mH5\u001b[39m\u001b[38;5;124m'\u001b[39m)\n\u001b[0;32m     14\u001b[0m \u001b[38;5;124;03m\"\"\"for col, labels in meta.column_names_to_labels.items(): \u001b[39;00m\n\u001b[0;32m     15\u001b[0m \u001b[38;5;124;03m    if col.startswith('J72.'):\u001b[39;00m\n\u001b[0;32m     16\u001b[0m \u001b[38;5;124;03m        print(meta.column_names_to_labels[col])\u001b[39;00m\n\u001b[0;32m     17\u001b[0m \u001b[38;5;124;03m        print([(meta.variable_value_labels[col].get(label, label), cnt) for label, cnt in dataframe[dataframe[col].notnull()][col].value_counts().items()])\"\"\"\u001b[39;00m\n",
      "\u001b[1;31mNameError\u001b[0m: name 'df' is not defined"
     ]
    }
   ],
   "source": [
    "import matplotlib.pyplot as plt\n",
    "import seaborn as sns\n",
    "%matplotlib inline\n",
    "col = 'J72.19A'\n",
    "\n",
    "\n",
    "#print(df[df['H5']<100].groupby(['H5', col]).size().unstack().reset_index().plot.bar())\n",
    "\n",
    "\n",
    "\n",
    "sns.countplot(data=df[df['AGE']<100], y=col, hue='H5')\n",
    "\n",
    "\n",
    "\"\"\"for col, labels in meta.column_names_to_labels.items(): \n",
    "    if col.startswith('J72.'):\n",
    "        print(meta.column_names_to_labels[col])\n",
    "        print([(meta.variable_value_labels[col].get(label, label), cnt) for label, cnt in dataframe[dataframe[col].notnull()][col].value_counts().items()])\"\"\"\n",
    "    \n"
   ]
  },
  {
   "cell_type": "code",
   "execution_count": 85,
   "id": "c3eb6e69",
   "metadata": {},
   "outputs": [
    {
     "data": {
      "text/plain": [
       "<Axes: xlabel='count', ylabel='J72.20'>"
      ]
     },
     "execution_count": 85,
     "metadata": {},
     "output_type": "execute_result"
    },
    {
     "data": {
      "image/png": "[encoded data removed]",
      "text/plain": [
       "<Figure size 640x480 with 1 Axes>"
      ]
     },
     "metadata": {},
     "output_type": "display_data"
    }
   ],
   "source": [
    "col='J72.20'\n",
    "\n",
    "sns.countplot(data=df[df['AGE']<100], y=col, hue='H5')"
   ]
  },
  {
   "cell_type": "code",
   "execution_count": 86,
   "id": "a075098b",
   "metadata": {},
   "outputs": [
    {
     "ename": "IndexError",
     "evalue": "too many indices for array: array is 1-dimensional, but 2 were indexed",
     "output_type": "error",
     "traceback": [
      "\u001b[1;31m---------------------------------------------------------------------------\u001b[0m",
      "\u001b[1;31mIndexError\u001b[0m                                Traceback (most recent call last)",
      "Cell \u001b[1;32mIn[86], line 5\u001b[0m\n\u001b[0;32m      1\u001b[0m col\u001b[38;5;241m=\u001b[39m\u001b[38;5;124m'\u001b[39m\u001b[38;5;124mJ60.4C2\u001b[39m\u001b[38;5;124m'\u001b[39m\n\u001b[0;32m      3\u001b[0m df[\u001b[38;5;124m'\u001b[39m\u001b[38;5;124mJ60.4C2\u001b[39m\u001b[38;5;124m'\u001b[39m]\u001b[38;5;241m=\u001b[39mdf[\u001b[38;5;124m'\u001b[39m\u001b[38;5;124mJ60.4C2\u001b[39m\u001b[38;5;124m'\u001b[39m]\u001b[38;5;241m.\u001b[39mmap(meta\u001b[38;5;241m.\u001b[39mvariable_value_labels[\u001b[38;5;124m'\u001b[39m\u001b[38;5;124mJ60.4C2\u001b[39m\u001b[38;5;124m'\u001b[39m])\n\u001b[1;32m----> 5\u001b[0m \u001b[43msns\u001b[49m\u001b[38;5;241;43m.\u001b[39;49m\u001b[43mcountplot\u001b[49m\u001b[43m(\u001b[49m\u001b[43mdata\u001b[49m\u001b[38;5;241;43m=\u001b[39;49m\u001b[43mdf\u001b[49m\u001b[43m[\u001b[49m\u001b[43mdf\u001b[49m\u001b[43m[\u001b[49m\u001b[38;5;124;43m'\u001b[39;49m\u001b[38;5;124;43mAGE\u001b[39;49m\u001b[38;5;124;43m'\u001b[39;49m\u001b[43m]\u001b[49m\u001b[38;5;241;43m<\u001b[39;49m\u001b[38;5;241;43m100\u001b[39;49m\u001b[43m]\u001b[49m\u001b[43m,\u001b[49m\u001b[43m \u001b[49m\u001b[43my\u001b[49m\u001b[38;5;241;43m=\u001b[39;49m\u001b[43mcol\u001b[49m\u001b[43m,\u001b[49m\u001b[43m \u001b[49m\u001b[43mhue\u001b[49m\u001b[38;5;241;43m=\u001b[39;49m\u001b[38;5;124;43m'\u001b[39;49m\u001b[38;5;124;43mH5\u001b[39;49m\u001b[38;5;124;43m'\u001b[39;49m\u001b[43m)\u001b[49m\n",
      "File \u001b[1;32m~\\anaconda3\\lib\\site-packages\\seaborn\\categorical.py:2955\u001b[0m, in \u001b[0;36mcountplot\u001b[1;34m(data, x, y, hue, order, hue_order, orient, color, palette, saturation, width, dodge, ax, **kwargs)\u001b[0m\n\u001b[0;32m   2952\u001b[0m \u001b[38;5;28;01mif\u001b[39;00m ax \u001b[38;5;129;01mis\u001b[39;00m \u001b[38;5;28;01mNone\u001b[39;00m:\n\u001b[0;32m   2953\u001b[0m     ax \u001b[38;5;241m=\u001b[39m plt\u001b[38;5;241m.\u001b[39mgca()\n\u001b[1;32m-> 2955\u001b[0m \u001b[43mplotter\u001b[49m\u001b[38;5;241;43m.\u001b[39;49m\u001b[43mplot\u001b[49m\u001b[43m(\u001b[49m\u001b[43max\u001b[49m\u001b[43m,\u001b[49m\u001b[43m \u001b[49m\u001b[43mkwargs\u001b[49m\u001b[43m)\u001b[49m\n\u001b[0;32m   2956\u001b[0m \u001b[38;5;28;01mreturn\u001b[39;00m ax\n",
      "File \u001b[1;32m~\\anaconda3\\lib\\site-packages\\seaborn\\categorical.py:1586\u001b[0m, in \u001b[0;36m_BarPlotter.plot\u001b[1;34m(self, ax, bar_kws)\u001b[0m\n\u001b[0;32m   1584\u001b[0m \u001b[38;5;28;01mdef\u001b[39;00m \u001b[38;5;21mplot\u001b[39m(\u001b[38;5;28mself\u001b[39m, ax, bar_kws):\n\u001b[0;32m   1585\u001b[0m     \u001b[38;5;124;03m\"\"\"Make the plot.\"\"\"\u001b[39;00m\n\u001b[1;32m-> 1586\u001b[0m     \u001b[38;5;28;43mself\u001b[39;49m\u001b[38;5;241;43m.\u001b[39;49m\u001b[43mdraw_bars\u001b[49m\u001b[43m(\u001b[49m\u001b[43max\u001b[49m\u001b[43m,\u001b[49m\u001b[43m \u001b[49m\u001b[43mbar_kws\u001b[49m\u001b[43m)\u001b[49m\n\u001b[0;32m   1587\u001b[0m     \u001b[38;5;28mself\u001b[39m\u001b[38;5;241m.\u001b[39mannotate_axes(ax)\n\u001b[0;32m   1588\u001b[0m     \u001b[38;5;28;01mif\u001b[39;00m \u001b[38;5;28mself\u001b[39m\u001b[38;5;241m.\u001b[39morient \u001b[38;5;241m==\u001b[39m \u001b[38;5;124m\"\u001b[39m\u001b[38;5;124mh\u001b[39m\u001b[38;5;124m\"\u001b[39m:\n",
      "File \u001b[1;32m~\\anaconda3\\lib\\site-packages\\seaborn\\categorical.py:1569\u001b[0m, in \u001b[0;36m_BarPlotter.draw_bars\u001b[1;34m(self, ax, kws)\u001b[0m\n\u001b[0;32m   1565\u001b[0m \u001b[38;5;28;01mfor\u001b[39;00m j, hue_level \u001b[38;5;129;01min\u001b[39;00m \u001b[38;5;28menumerate\u001b[39m(\u001b[38;5;28mself\u001b[39m\u001b[38;5;241m.\u001b[39mhue_names):\n\u001b[0;32m   1566\u001b[0m \n\u001b[0;32m   1567\u001b[0m     \u001b[38;5;66;03m# Draw the bars\u001b[39;00m\n\u001b[0;32m   1568\u001b[0m     offpos \u001b[38;5;241m=\u001b[39m barpos \u001b[38;5;241m+\u001b[39m \u001b[38;5;28mself\u001b[39m\u001b[38;5;241m.\u001b[39mhue_offsets[j]\n\u001b[1;32m-> 1569\u001b[0m     barfunc(offpos, \u001b[38;5;28;43mself\u001b[39;49m\u001b[38;5;241;43m.\u001b[39;49m\u001b[43mstatistic\u001b[49m\u001b[43m[\u001b[49m\u001b[43m:\u001b[49m\u001b[43m,\u001b[49m\u001b[43m \u001b[49m\u001b[43mj\u001b[49m\u001b[43m]\u001b[49m, \u001b[38;5;28mself\u001b[39m\u001b[38;5;241m.\u001b[39mnested_width,\n\u001b[0;32m   1570\u001b[0m             color\u001b[38;5;241m=\u001b[39m\u001b[38;5;28mself\u001b[39m\u001b[38;5;241m.\u001b[39mcolors[j], align\u001b[38;5;241m=\u001b[39m\u001b[38;5;124m\"\u001b[39m\u001b[38;5;124mcenter\u001b[39m\u001b[38;5;124m\"\u001b[39m,\n\u001b[0;32m   1571\u001b[0m             label\u001b[38;5;241m=\u001b[39mhue_level, \u001b[38;5;241m*\u001b[39m\u001b[38;5;241m*\u001b[39mkws)\n\u001b[0;32m   1573\u001b[0m     \u001b[38;5;66;03m# Draw the confidence intervals\u001b[39;00m\n\u001b[0;32m   1574\u001b[0m     \u001b[38;5;28;01mif\u001b[39;00m \u001b[38;5;28mself\u001b[39m\u001b[38;5;241m.\u001b[39mconfint\u001b[38;5;241m.\u001b[39msize:\n",
      "\u001b[1;31mIndexError\u001b[0m: too many indices for array: array is 1-dimensional, but 2 were indexed"
     ]
    },
    {
     "data": {
      "image/png": "[encoded data removed]",
      "text/plain": [
       "<Figure size 640x480 with 1 Axes>"
      ]
     },
     "metadata": {},
     "output_type": "display_data"
    }
   ],
   "source": []
  },
  {
   "cell_type": "code",
   "execution_count": 9,
   "id": "724253e6",
   "metadata": {
    "scrolled": true
   },
   "outputs": [
    {
     "name": "stdout",
     "output_type": "stream",
     "text": [
      "J72.25\n"
     ]
    }
   ],
   "source": [
    "for k, v in meta.column_names_to_labels.items():\n",
    "    if v=='Оцените в какой мере Ваша нынешняя работа требует того уровня образования, который Вы получили в учебном учреждении?':\n",
    "        print(k)\n"
   ]
  },
  {
   "cell_type": "code",
   "execution_count": 11,
   "id": "b25ff0b2",
   "metadata": {},
   "outputs": [
    {
     "data": {
      "text/plain": [
       "{1.0: 'Ваш уровень образования выше, чем требуется',\n",
       " 2.0: 'Ваш уровень образования примерно соответствует тому, что требуется',\n",
       " 3.0: 'Ваш уровень образования ниже того, что требуется',\n",
       " 99999997.0: 'ЗАТРУДНЯЮСЬ ОТВЕТИТЬ',\n",
       " 99999998.0: 'ОТКАЗ ОТ ОТВЕТА',\n",
       " 99999999.0: 'НЕТ ОТВЕТА'}"
      ]
     },
     "execution_count": 11,
     "metadata": {},
     "output_type": "execute_result"
    }
   ],
   "source": [
    "meta.variable_value_labels['J72.25']"
   ]
  },
  {
   "cell_type": "code",
   "execution_count": 19,
   "id": "4ca529f8",
   "metadata": {},
   "outputs": [
    {
     "name": "stderr",
     "output_type": "stream",
     "text": [
      "C:\\Users\\Alexkeks\\AppData\\Local\\Temp\\ipykernel_18988\\746486132.py:3: SettingWithCopyWarning: \n",
      "A value is trying to be set on a copy of a slice from a DataFrame.\n",
      "Try using .loc[row_indexer,col_indexer] = value instead\n",
      "\n",
      "See the caveats in the documentation: https://pandas.pydata.org/pandas-docs/stable/user_guide/indexing.html#returning-a-view-versus-a-copy\n",
      "  df_1[col]=df_1[col].map(meta.variable_value_labels[col])\n"
     ]
    },
    {
     "data": {
      "text/plain": [
       "<Axes: xlabel='count', ylabel='J72.25'>"
      ]
     },
     "execution_count": 19,
     "metadata": {},
     "output_type": "execute_result"
    },
    {
     "data": {
      "image/png": "[encoded data removed]",
      "text/plain": [
       "<Figure size 640x480 with 1 Axes>"
      ]
     },
     "metadata": {},
     "output_type": "display_data"
    }
   ],
   "source": [
    "col = 'J72.25'\n",
    "df_1 = dataframe[dataframe[col]<=3]\n",
    "df_1[col]=df_1[col].map(meta.variable_value_labels[col])\n",
    "sns.countplot(data=df_1[df_1['AGE']<100], y=col)\n"
   ]
  },
  {
   "cell_type": "code",
   "execution_count": 25,
   "id": "17313c82",
   "metadata": {},
   "outputs": [
    {
     "data": {
      "text/html": [
       "<div>\n",
       "<style scoped>\n",
       "    .dataframe tbody tr th:only-of-type {\n",
       "        vertical-align: middle;\n",
       "    }\n",
       "\n",
       "    .dataframe tbody tr th {\n",
       "        vertical-align: top;\n",
       "    }\n",
       "\n",
       "    .dataframe thead th {\n",
       "        text-align: right;\n",
       "    }\n",
       "</style>\n",
       "<table border=\"1\" class=\"dataframe\">\n",
       "  <thead>\n",
       "    <tr style=\"text-align: right;\">\n",
       "      <th></th>\n",
       "      <th>ID_W</th>\n",
       "      <th>IDIND</th>\n",
       "      <th>YEAR</th>\n",
       "      <th>REDID_I</th>\n",
       "      <th>ID_I</th>\n",
       "      <th>ID_H</th>\n",
       "      <th>ORIGSM</th>\n",
       "      <th>INWGT</th>\n",
       "      <th>REGION</th>\n",
       "      <th>PSU</th>\n",
       "      <th>...</th>\n",
       "      <th>S6</th>\n",
       "      <th>S7</th>\n",
       "      <th>S1.1_L</th>\n",
       "      <th>S1.2_L</th>\n",
       "      <th>S2_L</th>\n",
       "      <th>S3_L</th>\n",
       "      <th>S4_L</th>\n",
       "      <th>S5_L</th>\n",
       "      <th>S6_L</th>\n",
       "      <th>S7_L</th>\n",
       "    </tr>\n",
       "  </thead>\n",
       "  <tbody>\n",
       "    <tr>\n",
       "      <th>145442</th>\n",
       "      <td>17.0</td>\n",
       "      <td>5.0</td>\n",
       "      <td>2008.0</td>\n",
       "      <td>182903.0</td>\n",
       "      <td>10100203.0</td>\n",
       "      <td>101002.0</td>\n",
       "      <td>1.0</td>\n",
       "      <td>1.046947</td>\n",
       "      <td>1.0</td>\n",
       "      <td>6.0</td>\n",
       "      <td>...</td>\n",
       "      <td>2.0</td>\n",
       "      <td>3.0</td>\n",
       "      <td>NaN</td>\n",
       "      <td>NaN</td>\n",
       "      <td>NaN</td>\n",
       "      <td>NaN</td>\n",
       "      <td>NaN</td>\n",
       "      <td>NaN</td>\n",
       "      <td>NaN</td>\n",
       "      <td>NaN</td>\n",
       "    </tr>\n",
       "    <tr>\n",
       "      <th>145444</th>\n",
       "      <td>17.0</td>\n",
       "      <td>9.0</td>\n",
       "      <td>2008.0</td>\n",
       "      <td>183101.0</td>\n",
       "      <td>10100501.0</td>\n",
       "      <td>101005.0</td>\n",
       "      <td>1.0</td>\n",
       "      <td>0.792921</td>\n",
       "      <td>1.0</td>\n",
       "      <td>6.0</td>\n",
       "      <td>...</td>\n",
       "      <td>3.0</td>\n",
       "      <td>1.0</td>\n",
       "      <td>NaN</td>\n",
       "      <td>NaN</td>\n",
       "      <td>NaN</td>\n",
       "      <td>NaN</td>\n",
       "      <td>NaN</td>\n",
       "      <td>NaN</td>\n",
       "      <td>NaN</td>\n",
       "      <td>NaN</td>\n",
       "    </tr>\n",
       "    <tr>\n",
       "      <th>145445</th>\n",
       "      <td>17.0</td>\n",
       "      <td>11291.0</td>\n",
       "      <td>2008.0</td>\n",
       "      <td>183201.0</td>\n",
       "      <td>10100701.0</td>\n",
       "      <td>101007.0</td>\n",
       "      <td>1.0</td>\n",
       "      <td>0.800482</td>\n",
       "      <td>1.0</td>\n",
       "      <td>6.0</td>\n",
       "      <td>...</td>\n",
       "      <td>2.0</td>\n",
       "      <td>1.0</td>\n",
       "      <td>NaN</td>\n",
       "      <td>NaN</td>\n",
       "      <td>NaN</td>\n",
       "      <td>NaN</td>\n",
       "      <td>NaN</td>\n",
       "      <td>NaN</td>\n",
       "      <td>NaN</td>\n",
       "      <td>NaN</td>\n",
       "    </tr>\n",
       "    <tr>\n",
       "      <th>145446</th>\n",
       "      <td>17.0</td>\n",
       "      <td>30113.0</td>\n",
       "      <td>2008.0</td>\n",
       "      <td>183301.0</td>\n",
       "      <td>10100801.0</td>\n",
       "      <td>101008.0</td>\n",
       "      <td>1.0</td>\n",
       "      <td>1.046947</td>\n",
       "      <td>1.0</td>\n",
       "      <td>6.0</td>\n",
       "      <td>...</td>\n",
       "      <td>2.0</td>\n",
       "      <td>1.0</td>\n",
       "      <td>NaN</td>\n",
       "      <td>NaN</td>\n",
       "      <td>NaN</td>\n",
       "      <td>NaN</td>\n",
       "      <td>NaN</td>\n",
       "      <td>NaN</td>\n",
       "      <td>NaN</td>\n",
       "      <td>NaN</td>\n",
       "    </tr>\n",
       "    <tr>\n",
       "      <th>145449</th>\n",
       "      <td>17.0</td>\n",
       "      <td>3.0</td>\n",
       "      <td>2008.0</td>\n",
       "      <td>183601.0</td>\n",
       "      <td>10105101.0</td>\n",
       "      <td>101051.0</td>\n",
       "      <td>0.0</td>\n",
       "      <td>0.000000</td>\n",
       "      <td>1.0</td>\n",
       "      <td>6.0</td>\n",
       "      <td>...</td>\n",
       "      <td>3.0</td>\n",
       "      <td>1.0</td>\n",
       "      <td>NaN</td>\n",
       "      <td>NaN</td>\n",
       "      <td>NaN</td>\n",
       "      <td>NaN</td>\n",
       "      <td>NaN</td>\n",
       "      <td>NaN</td>\n",
       "      <td>NaN</td>\n",
       "      <td>NaN</td>\n",
       "    </tr>\n",
       "    <tr>\n",
       "      <th>...</th>\n",
       "      <td>...</td>\n",
       "      <td>...</td>\n",
       "      <td>...</td>\n",
       "      <td>...</td>\n",
       "      <td>...</td>\n",
       "      <td>...</td>\n",
       "      <td>...</td>\n",
       "      <td>...</td>\n",
       "      <td>...</td>\n",
       "      <td>...</td>\n",
       "      <td>...</td>\n",
       "      <td>...</td>\n",
       "      <td>...</td>\n",
       "      <td>...</td>\n",
       "      <td>...</td>\n",
       "      <td>...</td>\n",
       "      <td>...</td>\n",
       "      <td>...</td>\n",
       "      <td>...</td>\n",
       "      <td>...</td>\n",
       "      <td>...</td>\n",
       "    </tr>\n",
       "    <tr>\n",
       "      <th>194788</th>\n",
       "      <td>19.0</td>\n",
       "      <td>39835.0</td>\n",
       "      <td>2010.0</td>\n",
       "      <td>792301.0</td>\n",
       "      <td>161052401.0</td>\n",
       "      <td>1610524.0</td>\n",
       "      <td>1.0</td>\n",
       "      <td>1.071100</td>\n",
       "      <td>161.0</td>\n",
       "      <td>32.0</td>\n",
       "      <td>...</td>\n",
       "      <td>2.0</td>\n",
       "      <td>1.0</td>\n",
       "      <td>NaN</td>\n",
       "      <td>NaN</td>\n",
       "      <td>NaN</td>\n",
       "      <td>NaN</td>\n",
       "      <td>NaN</td>\n",
       "      <td>NaN</td>\n",
       "      <td>NaN</td>\n",
       "      <td>NaN</td>\n",
       "    </tr>\n",
       "    <tr>\n",
       "      <th>194789</th>\n",
       "      <td>19.0</td>\n",
       "      <td>39836.0</td>\n",
       "      <td>2010.0</td>\n",
       "      <td>792302.0</td>\n",
       "      <td>161052402.0</td>\n",
       "      <td>1610524.0</td>\n",
       "      <td>1.0</td>\n",
       "      <td>1.233285</td>\n",
       "      <td>161.0</td>\n",
       "      <td>32.0</td>\n",
       "      <td>...</td>\n",
       "      <td>2.0</td>\n",
       "      <td>1.0</td>\n",
       "      <td>NaN</td>\n",
       "      <td>NaN</td>\n",
       "      <td>NaN</td>\n",
       "      <td>NaN</td>\n",
       "      <td>NaN</td>\n",
       "      <td>NaN</td>\n",
       "      <td>NaN</td>\n",
       "      <td>NaN</td>\n",
       "    </tr>\n",
       "    <tr>\n",
       "      <th>194795</th>\n",
       "      <td>19.0</td>\n",
       "      <td>39842.0</td>\n",
       "      <td>2010.0</td>\n",
       "      <td>792602.0</td>\n",
       "      <td>161053002.0</td>\n",
       "      <td>1610530.0</td>\n",
       "      <td>1.0</td>\n",
       "      <td>1.039878</td>\n",
       "      <td>161.0</td>\n",
       "      <td>32.0</td>\n",
       "      <td>...</td>\n",
       "      <td>2.0</td>\n",
       "      <td>1.0</td>\n",
       "      <td>NaN</td>\n",
       "      <td>NaN</td>\n",
       "      <td>NaN</td>\n",
       "      <td>NaN</td>\n",
       "      <td>NaN</td>\n",
       "      <td>NaN</td>\n",
       "      <td>NaN</td>\n",
       "      <td>NaN</td>\n",
       "    </tr>\n",
       "    <tr>\n",
       "      <th>194796</th>\n",
       "      <td>19.0</td>\n",
       "      <td>39843.0</td>\n",
       "      <td>2010.0</td>\n",
       "      <td>792603.0</td>\n",
       "      <td>161053003.0</td>\n",
       "      <td>1610530.0</td>\n",
       "      <td>1.0</td>\n",
       "      <td>1.071100</td>\n",
       "      <td>161.0</td>\n",
       "      <td>32.0</td>\n",
       "      <td>...</td>\n",
       "      <td>2.0</td>\n",
       "      <td>1.0</td>\n",
       "      <td>NaN</td>\n",
       "      <td>NaN</td>\n",
       "      <td>NaN</td>\n",
       "      <td>NaN</td>\n",
       "      <td>NaN</td>\n",
       "      <td>NaN</td>\n",
       "      <td>NaN</td>\n",
       "      <td>NaN</td>\n",
       "    </tr>\n",
       "    <tr>\n",
       "      <th>194800</th>\n",
       "      <td>19.0</td>\n",
       "      <td>22588.0</td>\n",
       "      <td>2010.0</td>\n",
       "      <td>651501.0</td>\n",
       "      <td>161060401.0</td>\n",
       "      <td>1610604.0</td>\n",
       "      <td>0.0</td>\n",
       "      <td>0.000000</td>\n",
       "      <td>161.0</td>\n",
       "      <td>32.0</td>\n",
       "      <td>...</td>\n",
       "      <td>2.0</td>\n",
       "      <td>1.0</td>\n",
       "      <td>NaN</td>\n",
       "      <td>NaN</td>\n",
       "      <td>NaN</td>\n",
       "      <td>NaN</td>\n",
       "      <td>NaN</td>\n",
       "      <td>NaN</td>\n",
       "      <td>NaN</td>\n",
       "      <td>NaN</td>\n",
       "    </tr>\n",
       "  </tbody>\n",
       "</table>\n",
       "<p>20841 rows × 2779 columns</p>\n",
       "</div>"
      ],
      "text/plain": [
       "        ID_W    IDIND    YEAR   REDID_I         ID_I       ID_H  ORIGSM  \\\n",
       "145442  17.0      5.0  2008.0  182903.0   10100203.0   101002.0     1.0   \n",
       "145444  17.0      9.0  2008.0  183101.0   10100501.0   101005.0     1.0   \n",
       "145445  17.0  11291.0  2008.0  183201.0   10100701.0   101007.0     1.0   \n",
       "145446  17.0  30113.0  2008.0  183301.0   10100801.0   101008.0     1.0   \n",
       "145449  17.0      3.0  2008.0  183601.0   10105101.0   101051.0     0.0   \n",
       "...      ...      ...     ...       ...          ...        ...     ...   \n",
       "194788  19.0  39835.0  2010.0  792301.0  161052401.0  1610524.0     1.0   \n",
       "194789  19.0  39836.0  2010.0  792302.0  161052402.0  1610524.0     1.0   \n",
       "194795  19.0  39842.0  2010.0  792602.0  161053002.0  1610530.0     1.0   \n",
       "194796  19.0  39843.0  2010.0  792603.0  161053003.0  1610530.0     1.0   \n",
       "194800  19.0  22588.0  2010.0  651501.0  161060401.0  1610604.0     0.0   \n",
       "\n",
       "           INWGT  REGION   PSU  ...   S6   S7  S1.1_L  S1.2_L  S2_L  S3_L  \\\n",
       "145442  1.046947     1.0   6.0  ...  2.0  3.0     NaN     NaN   NaN   NaN   \n",
       "145444  0.792921     1.0   6.0  ...  3.0  1.0     NaN     NaN   NaN   NaN   \n",
       "145445  0.800482     1.0   6.0  ...  2.0  1.0     NaN     NaN   NaN   NaN   \n",
       "145446  1.046947     1.0   6.0  ...  2.0  1.0     NaN     NaN   NaN   NaN   \n",
       "145449  0.000000     1.0   6.0  ...  3.0  1.0     NaN     NaN   NaN   NaN   \n",
       "...          ...     ...   ...  ...  ...  ...     ...     ...   ...   ...   \n",
       "194788  1.071100   161.0  32.0  ...  2.0  1.0     NaN     NaN   NaN   NaN   \n",
       "194789  1.233285   161.0  32.0  ...  2.0  1.0     NaN     NaN   NaN   NaN   \n",
       "194795  1.039878   161.0  32.0  ...  2.0  1.0     NaN     NaN   NaN   NaN   \n",
       "194796  1.071100   161.0  32.0  ...  2.0  1.0     NaN     NaN   NaN   NaN   \n",
       "194800  0.000000   161.0  32.0  ...  2.0  1.0     NaN     NaN   NaN   NaN   \n",
       "\n",
       "        S4_L  S5_L  S6_L  S7_L  \n",
       "145442   NaN   NaN   NaN   NaN  \n",
       "145444   NaN   NaN   NaN   NaN  \n",
       "145445   NaN   NaN   NaN   NaN  \n",
       "145446   NaN   NaN   NaN   NaN  \n",
       "145449   NaN   NaN   NaN   NaN  \n",
       "...      ...   ...   ...   ...  \n",
       "194788   NaN   NaN   NaN   NaN  \n",
       "194789   NaN   NaN   NaN   NaN  \n",
       "194795   NaN   NaN   NaN   NaN  \n",
       "194796   NaN   NaN   NaN   NaN  \n",
       "194800   NaN   NaN   NaN   NaN  \n",
       "\n",
       "[20841 rows x 2779 columns]"
      ]
     },
     "execution_count": 25,
     "metadata": {},
     "output_type": "execute_result"
    }
   ],
   "source": [
    "df_1 = df_1[df_1['J13.2'].notnull()]"
   ]
  },
  {
   "cell_type": "code",
   "execution_count": 28,
   "id": "fa123639",
   "metadata": {},
   "outputs": [
    {
     "data": {
      "text/plain": [
       "<seaborn.axisgrid.FacetGrid at 0x1e162da7910>"
      ]
     },
     "execution_count": 28,
     "metadata": {},
     "output_type": "execute_result"
    },
    {
     "data": {
      "image/png": "[encoded data removed]",
      "text/plain": [
       "<Figure size 500x500 with 1 Axes>"
      ]
     },
     "metadata": {},
     "output_type": "display_data"
    }
   ],
   "source": []
  },
  {
   "cell_type": "code",
   "execution_count": 35,
   "id": "3152e134",
   "metadata": {},
   "outputs": [
    {
     "data": {
      "text/plain": [
       "<seaborn.axisgrid.FacetGrid at 0x1e1476a3520>"
      ]
     },
     "execution_count": 35,
     "metadata": {},
     "output_type": "execute_result"
    },
    {
     "data": {
      "image/png": "[encoded data removed]",
      "text/plain": [
       "<Figure size 500x500 with 1 Axes>"
      ]
     },
     "metadata": {},
     "output_type": "display_data"
    }
   ],
   "source": [
    "df_1=df_1[df_1['J13.2']<200000]\n",
    "sns.catplot(data=df_1, y='J13.2',x='J72.25', kind='box')"
   ]
  },
  {
   "cell_type": "code",
   "execution_count": null,
   "id": "cd70d19a",
   "metadata": {},
   "outputs": [],
   "source": []
  }
 ],
 "metadata": {
  "kernelspec": {
   "display_name": "Python 3 (ipykernel)",
   "language": "python",
   "name": "python3"
  },
  "language_info": {
   "codemirror_mode": {
    "name": "ipython",
    "version": 3
   },
   "file_extension": ".py",
   "mimetype": "text/x-python",
   "name": "python",
   "nbconvert_exporter": "python",
   "pygments_lexer": "ipython3",
   "version": "3.10.9"
  }
 },
 "nbformat": 4,
 "nbformat_minor": 5
}
